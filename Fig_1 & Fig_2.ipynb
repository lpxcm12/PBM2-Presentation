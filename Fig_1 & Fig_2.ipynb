{
 "cells": [
  {
   "cell_type": "code",
   "execution_count": 110,
   "metadata": {},
   "outputs": [],
   "source": [
    "import numpy as np\n",
    "import pandas as pd\n",
    "import random\n",
    "import matplotlib.pyplot as plt\n",
    "import seaborn as sns\n",
    "from sympy import *"
   ]
  },
  {
   "cell_type": "code",
   "execution_count": 99,
   "metadata": {},
   "outputs": [],
   "source": [
    "# Average of efficacy\n",
    "W_EI=0.44\n",
    "W_IE=0.66\n",
    "W_II=0.54\n",
    "W_EE=0.37\n",
    "W_EI2=0.49\n",
    "W_IE2=0.65\n",
    "W_II2=0.53"
   ]
  },
  {
   "cell_type": "code",
   "execution_count": 100,
   "metadata": {},
   "outputs": [
    {
     "name": "stdout",
     "output_type": "stream",
     "text": [
      "0.2964\n",
      "0.22749999999999998\n",
      "0.2384\n"
     ]
    }
   ],
   "source": [
    "mu_EI=W_EI\n",
    "mu_IE=W_IE\n",
    "mu_II=W_II\n",
    "sigma_EI2=W_EI2-W_EI**2\n",
    "sigma_IE2=W_IE2-W_IE2**2\n",
    "sigma_II2=W_II2-W_II**2\n",
    "sigma_EI=np.sqrt(sigma_EI2)\n",
    "sigma_IE=np.sqrt(sigma_IE2)\n",
    "sigma_II=np.sqrt(sigma_II2)\n",
    "print(str(sigma_EI2)+'\\n'+str(sigma_IE2)+'\\n'+str(sigma_II2))"
   ]
  },
  {
   "cell_type": "code",
   "execution_count": 101,
   "metadata": {},
   "outputs": [
    {
     "data": {
      "text/html": [
       "<div>\n",
       "<style scoped>\n",
       "    .dataframe tbody tr th:only-of-type {\n",
       "        vertical-align: middle;\n",
       "    }\n",
       "\n",
       "    .dataframe tbody tr th {\n",
       "        vertical-align: top;\n",
       "    }\n",
       "\n",
       "    .dataframe thead th {\n",
       "        text-align: right;\n",
       "    }\n",
       "</style>\n",
       "<table border=\"1\" class=\"dataframe\">\n",
       "  <thead>\n",
       "    <tr style=\"text-align: right;\">\n",
       "      <th></th>\n",
       "      <th>CellID</th>\n",
       "      <th>DendriteID</th>\n",
       "      <th>SpineID</th>\n",
       "      <th>Global_SpineID</th>\n",
       "      <th>Starting Imaging Session</th>\n",
       "      <th>Ending Imaging Session</th>\n",
       "      <th>Volume</th>\n",
       "      <th>Lambda1</th>\n",
       "      <th>Lambda2</th>\n",
       "      <th>Shape</th>\n",
       "      <th>Distance</th>\n",
       "      <th>Center X</th>\n",
       "      <th>Center Y</th>\n",
       "      <th>Nearest Point X</th>\n",
       "      <th>Nearest Point Y</th>\n",
       "      <th>Z-Dimension Location</th>\n",
       "    </tr>\n",
       "  </thead>\n",
       "  <tbody>\n",
       "    <tr>\n",
       "      <td>0</td>\n",
       "      <td>1</td>\n",
       "      <td>1</td>\n",
       "      <td>1</td>\n",
       "      <td>1</td>\n",
       "      <td>1</td>\n",
       "      <td>6</td>\n",
       "      <td>10.6930</td>\n",
       "      <td>7.6533</td>\n",
       "      <td>4.5668</td>\n",
       "      <td>0.252576</td>\n",
       "      <td>11.156</td>\n",
       "      <td>114.38</td>\n",
       "      <td>176.15</td>\n",
       "      <td>114.0</td>\n",
       "      <td>165.0</td>\n",
       "      <td>0</td>\n",
       "    </tr>\n",
       "    <tr>\n",
       "      <td>1</td>\n",
       "      <td>1</td>\n",
       "      <td>1</td>\n",
       "      <td>2</td>\n",
       "      <td>2</td>\n",
       "      <td>1</td>\n",
       "      <td>1</td>\n",
       "      <td>5.1684</td>\n",
       "      <td>5.0923</td>\n",
       "      <td>3.8244</td>\n",
       "      <td>0.142194</td>\n",
       "      <td>11.822</td>\n",
       "      <td>174.25</td>\n",
       "      <td>140.18</td>\n",
       "      <td>174.0</td>\n",
       "      <td>152.0</td>\n",
       "      <td>0</td>\n",
       "    </tr>\n",
       "    <tr>\n",
       "      <td>2</td>\n",
       "      <td>1</td>\n",
       "      <td>1</td>\n",
       "      <td>3</td>\n",
       "      <td>3</td>\n",
       "      <td>1</td>\n",
       "      <td>6</td>\n",
       "      <td>14.6730</td>\n",
       "      <td>9.0718</td>\n",
       "      <td>6.6570</td>\n",
       "      <td>0.153527</td>\n",
       "      <td>10.853</td>\n",
       "      <td>198.24</td>\n",
       "      <td>146.15</td>\n",
       "      <td>198.0</td>\n",
       "      <td>157.0</td>\n",
       "      <td>0</td>\n",
       "    </tr>\n",
       "    <tr>\n",
       "      <td>3</td>\n",
       "      <td>1</td>\n",
       "      <td>1</td>\n",
       "      <td>4</td>\n",
       "      <td>4</td>\n",
       "      <td>1</td>\n",
       "      <td>5</td>\n",
       "      <td>42.8730</td>\n",
       "      <td>36.3070</td>\n",
       "      <td>7.9729</td>\n",
       "      <td>0.639886</td>\n",
       "      <td>15.923</td>\n",
       "      <td>209.63</td>\n",
       "      <td>148.30</td>\n",
       "      <td>207.0</td>\n",
       "      <td>164.0</td>\n",
       "      <td>0</td>\n",
       "    </tr>\n",
       "    <tr>\n",
       "      <td>4</td>\n",
       "      <td>1</td>\n",
       "      <td>1</td>\n",
       "      <td>5</td>\n",
       "      <td>5</td>\n",
       "      <td>1</td>\n",
       "      <td>1</td>\n",
       "      <td>19.5290</td>\n",
       "      <td>30.3960</td>\n",
       "      <td>5.9931</td>\n",
       "      <td>0.670610</td>\n",
       "      <td>12.720</td>\n",
       "      <td>389.14</td>\n",
       "      <td>271.00</td>\n",
       "      <td>397.0</td>\n",
       "      <td>261.0</td>\n",
       "      <td>-1</td>\n",
       "    </tr>\n",
       "  </tbody>\n",
       "</table>\n",
       "</div>"
      ],
      "text/plain": [
       "   CellID  DendriteID  SpineID  Global_SpineID  Starting Imaging Session  \\\n",
       "0       1           1        1               1                         1   \n",
       "1       1           1        2               2                         1   \n",
       "2       1           1        3               3                         1   \n",
       "3       1           1        4               4                         1   \n",
       "4       1           1        5               5                         1   \n",
       "\n",
       "   Ending Imaging Session   Volume  Lambda1  Lambda2     Shape  Distance  \\\n",
       "0                       6  10.6930   7.6533   4.5668  0.252576    11.156   \n",
       "1                       1   5.1684   5.0923   3.8244  0.142194    11.822   \n",
       "2                       6  14.6730   9.0718   6.6570  0.153527    10.853   \n",
       "3                       5  42.8730  36.3070   7.9729  0.639886    15.923   \n",
       "4                       1  19.5290  30.3960   5.9931  0.670610    12.720   \n",
       "\n",
       "   Center X  Center Y  Nearest Point X  Nearest Point Y  Z-Dimension Location  \n",
       "0    114.38    176.15            114.0            165.0                     0  \n",
       "1    174.25    140.18            174.0            152.0                     0  \n",
       "2    198.24    146.15            198.0            157.0                     0  \n",
       "3    209.63    148.30            207.0            164.0                     0  \n",
       "4    389.14    271.00            397.0            261.0                    -1  "
      ]
     },
     "execution_count": 101,
     "metadata": {},
     "output_type": "execute_result"
    }
   ],
   "source": [
    "# Extracting E->E connectivity from the spine imaging data\n",
    "c_EE=0.2\n",
    "path=\"../../../documents/Practical Biomedical Modelling/Semester 2/Global_Spines_info.csv\"\n",
    "spines_info=pd.read_csv(path)\n",
    "spines_info.drop('Unnamed: 0',axis=1,inplace=True)\n",
    "spines_info.head()"
   ]
  },
  {
   "cell_type": "code",
   "execution_count": 102,
   "metadata": {},
   "outputs": [
    {
     "name": "stdout",
     "output_type": "stream",
     "text": [
      "0.00756288522510971\n"
     ]
    }
   ],
   "source": [
    "spines_IS1=spines_info.loc[spines_info['Starting Imaging Session']==1]\n",
    "spines_IS1.head(100)\n",
    "S=spines_IS1['Volume'].mean()\n",
    "g=W_EE/S\n",
    "print(g)"
   ]
  },
  {
   "cell_type": "code",
   "execution_count": 103,
   "metadata": {},
   "outputs": [],
   "source": [
    "# Connectivity matrix 8*8\n",
    "# EI\n",
    "# I*\n",
    "def W_Construction():\n",
    "    c_EE=0.51\n",
    "    W=np.zeros((8,8))\n",
    "    c=np.zeros((8,8))\n",
    "    for i in range(6):\n",
    "        for j in range(6,8):\n",
    "            if(random.uniform(0,1)<=0.5):\n",
    "                c[i,j]=1\n",
    "                W[i,j]=np.random.lognormal(mu_EI,sigma_EI)\n",
    "    for i in range(6,8):\n",
    "        for j in range(6):\n",
    "            if(random.uniform(0,1)<=0.5):\n",
    "                c[i,j]=1\n",
    "                W[i,j]=np.random.lognormal(mu_IE,sigma_IE)\n",
    "    for i in range(6,8):\n",
    "        for j in range(6,8):\n",
    "            if(random.uniform(0,1)<=0.5):\n",
    "                c[i,j]=1\n",
    "                W[i,j]=np.random.lognormal(mu_II,sigma_II)\n",
    "    for i in range(6):\n",
    "        for j in range(6):\n",
    "            if(random.uniform(0,1)<=c_EE):\n",
    "                index=random.randint(1,3688)\n",
    "                W[i,j]=spines_info['Volume'].loc[spines_info['Global_SpineID']==index]*g\n",
    "            else:\n",
    "                W[i,j]=0\n",
    "            c[i,j]=c_EE\n",
    "    return W,c"
   ]
  },
  {
   "cell_type": "code",
   "execution_count": 104,
   "metadata": {},
   "outputs": [
    {
     "data": {
      "image/png": "[encoded data removed]",
      "text/plain": [
       "<Figure size 1728x288 with 12 Axes>"
      ]
     },
     "metadata": {
      "needs_background": "light"
     },
     "output_type": "display_data"
    }
   ],
   "source": [
    "%matplotlib inline\n",
    "W=np.zeros((6,8,8))\n",
    "c=np.zeros((6,8,8))\n",
    "plt.figure(figsize=(24,4))\n",
    "for i in range(6):\n",
    "    W[i],c[i]=W_Construction()\n",
    "    plt.subplot(1,6,i+1)\n",
    "    sns.heatmap(W[i],vmin=0,vmax=1.6,cmap='jet')"
   ]
  },
  {
   "cell_type": "code",
   "execution_count": 124,
   "metadata": {},
   "outputs": [],
   "source": [
    "# Recurrent input of neuron i\n",
    "h=np.zeros((8,5000))\n",
    "for i in range(8):\n",
    "    for j in range(6):\n",
    "        tsteps=0\n",
    "        while(True):\n",
    "            tstep=random.randint(10,100)\n",
    "            tsteps=tsteps+tstep\n",
    "            if(tsteps<5000):\n",
    "                h[i,tsteps]=h[i,tsteps]+c[0,i,j]*W[0,i,j]\n",
    "            else:\n",
    "                break\n",
    "    for j in range(6,8):\n",
    "        tsteps=0\n",
    "        while(True):\n",
    "            tstep=random.randint(10,100)\n",
    "            tsteps=tsteps+tstep\n",
    "            if(tsteps<5000):\n",
    "                h[i,tsteps]=h[i,tsteps]-c[0,i,j]*W[0,i,j]\n",
    "            else:\n",
    "                break"
   ]
  },
  {
   "cell_type": "code",
   "execution_count": 132,
   "metadata": {},
   "outputs": [
    {
     "data": {
      "text/plain": [
       "[<matplotlib.lines.Line2D at 0x1a229dd1d0>]"
      ]
     },
     "execution_count": 132,
     "metadata": {},
     "output_type": "execute_result"
    },
    {
     "data": {
      "image/png": "[encoded data removed]",
      "text/plain": [
       "<Figure size 432x288 with 1 Axes>"
      ]
     },
     "metadata": {
      "needs_background": "light"
     },
     "output_type": "display_data"
    },
    {
     "data": {
      "image/png": "[encoded data removed]",
      "text/plain": [
       "<Figure size 432x288 with 1 Axes>"
      ]
     },
     "metadata": {
      "needs_background": "light"
     },
     "output_type": "display_data"
    }
   ],
   "source": [
    "# Potential of neuron\n",
    "v=np.zeros((8,5000))\n",
    "theta=33\n",
    "tau_m=10\n",
    "H_E=77.6\n",
    "H_I=57.8\n",
    "v_R=24.75\n",
    "for i in range(8):\n",
    "    v[i,0]=v_R\n",
    "t=range(4999)\n",
    "for dt in t:\n",
    "    for i in range(6):\n",
    "        if v[i,dt]==float('inf'):\n",
    "            v[i,dt+1]=v_R\n",
    "        else:\n",
    "            v[i,dt+1]=v[i,dt]+0.001*(-v[i,dt]/tau_m+h[i,dt]+H_E)\n",
    "            if v[i,dt+1]>=theta:\n",
    "                v[i,dt+1]=float('inf')\n",
    "    for i in range(6,8):\n",
    "        if v[i,dt]==float('inf'):\n",
    "            v[i,dt+1]=v_R\n",
    "        else:\n",
    "            v[i,dt+1]=v[i,dt]+0.001*(-v[i,dt]/tau_m+h[i,dt]+H_I)\n",
    "            if v[i,dt+1]>=theta:\n",
    "                v[i,dt+1]=float('inf')\n",
    "plt.figure()\n",
    "plt.plot(range(5000),v[1])\n",
    "plt.figure()\n",
    "plt.plot(range(5000),v[6],'r')"
   ]
  },
  {
   "cell_type": "code",
   "execution_count": 121,
   "metadata": {},
   "outputs": [
    {
     "name": "stdout",
     "output_type": "stream",
     "text": [
      "[0. 1. 2. 3. 4. 5.]\n"
     ]
    }
   ],
   "source": []
  },
  {
   "cell_type": "code",
   "execution_count": null,
   "metadata": {},
   "outputs": [],
   "source": []
  }
 ],
 "metadata": {
  "kernelspec": {
   "display_name": "Python 3",
   "language": "python",
   "name": "python3"
  },
  "language_info": {
   "codemirror_mode": {
    "name": "ipython",
    "version": 3
   },
   "file_extension": ".py",
   "mimetype": "text/x-python",
   "name": "python",
   "nbconvert_exporter": "python",
   "pygments_lexer": "ipython3",
   "version": "3.7.3"
  }
 },
 "nbformat": 4,
 "nbformat_minor": 4
}
